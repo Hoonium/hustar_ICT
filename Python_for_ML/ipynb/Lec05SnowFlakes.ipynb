{
 "cells": [
  {
   "cell_type": "markdown",
   "metadata": {},
   "source": [
    "# Welcome to \"CrashPython\"\n",
    "\n",
    "__But God demonstrates his own love for us in this: While we were still sinners, Christ died for us.__ Romans 5:9\n",
    "\n",
    "--------"
   ]
  },
  {
   "cell_type": "markdown",
   "metadata": {},
   "source": [
    "# Lesson - Control Flow Example - SnowFlakes\n",
    "\n",
    "-------\n"
   ]
  },
  {
   "cell_type": "markdown",
   "metadata": {},
   "source": [
    "Looping\n",
    "=======\n",
    "\n",
    "When programming, you want to be able to repeatedly execute chunks of code without having to manually duplicate the code. Python implements a number of looping constructs, and in this lecture we'll discuss the __while__ loop and the __for__ loop.\n",
    "\n",
    "While loop\n",
    "----------\n",
    "\n",
    "```\n",
    "while <condition>:\n",
    "    <statements>\n",
    "```   "
   ]
  },
  {
   "cell_type": "markdown",
   "metadata": {},
   "source": [
    "__Example 1__ - count how many times 0 appears in an integer number:"
   ]
  },
  {
   "cell_type": "code",
   "execution_count": null,
   "metadata": {},
   "outputs": [],
   "source": [
    "num = 2**100\n",
    "print(num)"
   ]
  },
  {
   "cell_type": "markdown",
   "metadata": {},
   "source": [
    "How do you get the last digit of 'num'?\n",
    "- num % 10\n",
    "\n",
    "How do you get the new 'num' after removing the last digit?\n",
    "- num // 10\n",
    "\n",
    "Algorithm\n",
    "1. You get the last digit and check whether it is 0 or not.     If it is 0, increment the count.\n",
    "2. After you check the last digit, remove the last digit to get the new 'num'\n",
    "3. Repeat this process while num > 0. "
   ]
  },
  {
   "cell_type": "code",
   "execution_count": null,
   "metadata": {},
   "outputs": [],
   "source": [
    "num = 2**100\n",
    "count = 0\n",
    "\n",
    "while num > 0:  \n",
    "    None\n",
    "    \n",
    "print('count =', count)"
   ]
  },
  {
   "cell_type": "markdown",
   "metadata": {},
   "source": [
    "This repeatedly pops an element from the set of plays until the set of plays\n",
    "is empty.\n",
    "\n",
    "For loop\n",
    "--------\n",
    "\n",
    "The other type of looping statement that is available is the for loop.  The\n",
    "for loop is designed to loop over sequences, like lists, sets, dictionaries,\n",
    "and even strings.  The for statement has the form:\n",
    "\n",
    "    for <variable> in <sequence>:\n",
    "        <indented block of code>\n",
    "\n",
    "The variable is given each element of the sequence in turn, and then the block\n",
    "of code is executed with the variable referring to that element:"
   ]
  },
  {
   "cell_type": "markdown",
   "metadata": {},
   "source": [
    "`str` type varaible is iterable \n",
    "\n",
    "For example, \n",
    "\n",
    "    `for c in \"hello\":\n",
    "        print(c)`\n",
    "    h\n",
    "    e\n",
    "    l\n",
    "    l\n",
    "    o"
   ]
  },
  {
   "cell_type": "markdown",
   "metadata": {},
   "source": [
    "### print list"
   ]
  },
  {
   "cell_type": "code",
   "execution_count": null,
   "metadata": {},
   "outputs": [],
   "source": [
    "# print \"2 5 7 9\"\n",
    "numbers = [2, 5, 7, 9]\n",
    "for n in numbers:\n",
    "    print(None)\n"
   ]
  },
  {
   "cell_type": "code",
   "execution_count": null,
   "metadata": {},
   "outputs": [],
   "source": [
    "# print \"Hello john\"\n",
    "# print \"Hello joe\"\n",
    "# print \"Hello peter\"\n",
    "names = ['john', 'joe', 'peter']\n",
    "for name in names:\n",
    "    print(None)"
   ]
  },
  {
   "cell_type": "code",
   "execution_count": null,
   "metadata": {},
   "outputs": [],
   "source": [
    "# sum odd numbers 0 ~ 100\n",
    "sum = 0\n",
    "for x in range(100):\n",
    "    None\n",
    "print('sum = ', sum)"
   ]
  },
  {
   "cell_type": "code",
   "execution_count": null,
   "metadata": {},
   "outputs": [],
   "source": [
    "# sum even numbers in 10 ~ 20\n",
    "sum = 0\n",
    "for x in range(10, 21):\n",
    "    None\n",
    "print('sum = ', sum)"
   ]
  },
  {
   "cell_type": "code",
   "execution_count": null,
   "metadata": {},
   "outputs": [],
   "source": [
    "# sum even numbers in 10 ~ 20\n",
    "sum = 0\n",
    "for x in range(None):\n",
    "    sum = sum + x\n",
    "print('sum = ', sum)"
   ]
  },
  {
   "cell_type": "markdown",
   "metadata": {},
   "source": [
    "__Example 1:__ - solve the same problem (or finding zero's) with a `str` type instead of `int`:\n"
   ]
  },
  {
   "cell_type": "code",
   "execution_count": null,
   "metadata": {},
   "outputs": [],
   "source": [
    "# count 0 in num\n",
    "\n",
    "num = 2**100\n",
    "count = 0\n",
    "\n",
    "None\n",
    "        \n",
    "print(count)"
   ]
  },
  {
   "cell_type": "markdown",
   "metadata": {},
   "source": [
    "__Example 2__\n",
    "\n",
    "Convert num as a `str` type and use a for loop to count `0` in 'num'.\n",
    "    - str() converts an argument into a str type\n",
    "    - str.count(\"hello world\", \"l\") returns 3 since there are three 'l's in \"hello world\"."
   ]
  },
  {
   "cell_type": "code",
   "execution_count": null,
   "metadata": {},
   "outputs": [],
   "source": [
    "num = 2**100\n",
    "num_str = str(num)\n",
    "\n",
    "count = None\n",
    "print(count)"
   ]
  },
  {
   "cell_type": "markdown",
   "metadata": {},
   "source": [
    "__Example 3__ \n",
    "\n",
    "Solve the same problem (or finding zero's) using built-in functions, count() & str():\n",
    "\n",
    "- "
   ]
  },
  {
   "cell_type": "code",
   "execution_count": null,
   "metadata": {},
   "outputs": [],
   "source": [
    "num = 2**100\n",
    "\n",
    "None\n",
    "\n",
    "print(c)"
   ]
  },
  {
   "cell_type": "markdown",
   "metadata": {},
   "source": [
    "## Iterable Objects\n",
    "\n",
    "### range() function \n",
    "    range() function returns an iterable of range(start, stop, step)\n",
    "\n",
    "    - range(stop)\n",
    "    - range(start, stop[, step])"
   ]
  },
  {
   "cell_type": "code",
   "execution_count": null,
   "metadata": {},
   "outputs": [],
   "source": [
    "# print 1 ~ 20 \n",
    "for x None\n",
    "    print(x, end = ' ')\n"
   ]
  },
  {
   "cell_type": "code",
   "execution_count": null,
   "metadata": {},
   "outputs": [],
   "source": [
    "# print 20 ~ 100\n",
    "for x in None\n",
    "    print(x, end = ' ')"
   ]
  },
  {
   "cell_type": "code",
   "execution_count": null,
   "metadata": {},
   "outputs": [],
   "source": [
    "# print even numbers between 0 and 100\n",
    "for x in None\n",
    "    print(x, end = ' ')"
   ]
  },
  {
   "cell_type": "markdown",
   "metadata": {},
   "source": [
    "### Collections - an iterable class\n",
    "\n",
    "There are four collection data types in the Python programming language:\n",
    "\n",
    "    - List is a collection which is ordered and changeable. Allows duplicate members.\n",
    "        ['john', 'adam', 'david', 'joe', 'joe']\n",
    "    - Tuple is a collection which is ordered and unchangeable. Allows duplicate members.\n",
    "        ('john', 'adam', 'david', 'joe', 'joe')\n",
    "    - Set is a collection which is unordered and unindexed. No duplicate members.\n",
    "        {'john', 'adam', 'david', 'joe'}\n",
    "    - Dictionary (key and value pair) is a collection which is unordered, changeable and indexed. No duplicate members.\n",
    "        car_dict = {\"brand\": \"Ford\", \"model\": \"Mustang\", \"year\": 1964}\n",
    "        car_dict[\"brand\"] returns \"Ford\".\n",
    "        car_dict.get(\"brand\") returns \"Ford\".\n"
   ]
  },
  {
   "cell_type": "code",
   "execution_count": 2,
   "metadata": {},
   "outputs": [
    {
     "name": "stdout",
     "output_type": "stream",
     "text": [
      "['john', 'adam', 'david', 'joe', 'joe']\n",
      "['Bijeta', 'adam', 'david', 'joe', 'joe']\n",
      "('john', 'adam', 'david', 'joe', 'joe')\n",
      "{'john', 'adam', 'joe', 'david'}\n",
      "{'brand': 'Ford', 'model': 'Mustang', 'year': 1964}\n"
     ]
    }
   ],
   "source": [
    "names = ['john', 'adam', 'david', 'joe', 'joe']\n",
    "print(names)\n",
    "names[0] = 'Bijeta'\n",
    "print(names)\n",
    "\n",
    "names_tuple = ('john', 'adam', 'david', 'joe', 'joe')\n",
    "print(names_tuple)\n",
    "\n",
    "names_set = set(['john', 'adam', 'david', 'joe', 'joe'])\n",
    "print(names_set)\n",
    "\n",
    "car_dict = {\"brand\": \"Ford\", \"model\": \"Mustang\", \"year\": 1964}\n",
    "print(car_dict)"
   ]
  },
  {
   "cell_type": "markdown",
   "metadata": {},
   "source": [
    "#### Use a for loop and print each item in the list, tuple, set and dictionary"
   ]
  },
  {
   "cell_type": "code",
   "execution_count": null,
   "metadata": {},
   "outputs": [],
   "source": [
    "for x in names:\n",
    "    print(x, end = ' ')\n",
    "for x in names_tuple:\n",
    "    print(x, end = ' ')\n",
    "for x in names:\n",
    "    print(x, end = ' ')\n",
    "\n",
    "print('\\n')\n",
    "for x in car_dict:\n",
    "    print(x, car_dict[x])"
   ]
  },
  {
   "cell_type": "markdown",
   "metadata": {},
   "source": [
    "## __Challenge:__ \n",
    "### Which one is the fastest or most efficient algorithms above? \n",
    "    \n",
    "### Efficiency\n",
    "We can measure which solution is faster:"
   ]
  },
  {
   "cell_type": "markdown",
   "metadata": {},
   "source": [
    "(1) Using num % 10, num // 10"
   ]
  },
  {
   "cell_type": "code",
   "execution_count": null,
   "metadata": {},
   "outputs": [],
   "source": [
    "%%timeit\n",
    "num = 2**100\n",
    "count = 0\n",
    "\n",
    "while num > 0:  \n",
    "    None\n"
   ]
  },
  {
   "cell_type": "markdown",
   "metadata": {},
   "source": [
    "(2) Using str() & for loop"
   ]
  },
  {
   "cell_type": "code",
   "execution_count": null,
   "metadata": {},
   "outputs": [],
   "source": [
    "%%timeit \n",
    "num = 2**100\n",
    "count = 0\n",
    "\n",
    "for x in str(num):\n",
    "    None"
   ]
  },
  {
   "cell_type": "markdown",
   "metadata": {},
   "source": [
    "(3) Using str.count()"
   ]
  },
  {
   "cell_type": "code",
   "execution_count": null,
   "metadata": {},
   "outputs": [],
   "source": [
    "%%timeit \n",
    "num = 2**100\n",
    "num_str = str(num)\n",
    "count = None"
   ]
  },
  {
   "cell_type": "markdown",
   "metadata": {},
   "source": [
    "The solution using built-in functions is four times faster than the __for__ loop solution which is 3 times faster than the __while__ loop solution.\n",
    "\n",
    "### Other notes\n",
    "* The `while` solution will not work for `num <= 0`\n",
    "* The `while` solution will not work for non-numerals (e.g, `num = \"Cola Zero is awesome!\"`)\n",
    "* The built-in solution is implemented in C internally. That is why it is faster."
   ]
  },
  {
   "cell_type": "markdown",
   "metadata": {},
   "source": [
    "# Example : \n",
    "\n",
    "## Snow falls, love never fails \n",
    "\n",
    "The [Collatz Conjecture](http://en.wikipedia.org/wiki/Collatz_conjecture) is the conjecture that the following process is finite for every natural number:\n",
    "\n",
    "> Take any natural number n. If the number $n$ is even divide it by two ($n/2$), if it is odd, multiply it by 3 and add 1 ($3n+1$). Repeat this process untill you get the number 1.\n",
    "\n",
    "### Implementation\n",
    "We start with the \"Half Or Triple Plus One\" process:"
   ]
  },
  {
   "cell_type": "markdown",
   "metadata": {},
   "source": [
    "### step 1:\n",
    "__Sample run (n = 10):__\n",
    "\n",
    "10 5 16 8 4 2 1"
   ]
  },
  {
   "cell_type": "code",
   "execution_count": 5,
   "metadata": {
    "scrolled": true
   },
   "outputs": [
    {
     "name": "stdout",
     "output_type": "stream",
     "text": [
      "1\n"
     ]
    }
   ],
   "source": [
    "m = 10 # integer to apply the sequence\n",
    "n = m\n",
    "snowflakes =[n]\n",
    "while n != 1:\n",
    "    n=n//2 if n%2 ==0 else n*3+1\n",
    "    snowflakes.append(n)\n",
    "print(1)"
   ]
  },
  {
   "cell_type": "markdown",
   "metadata": {},
   "source": [
    "### step 2: plot the trail of snowflakes\n",
    "\n",
    "__Sample run(n = 10):__\n",
    "`\n",
    "8 4 2 1\n",
    "[8, 4, 2, 1]\n",
    "`\n",
    "<img src=\"https://github.com/idebtor/KMOOC-ML/blob/master/ipynb/images/snowflakes.png?raw=true\" width=300></img>\n",
    "<center> Snow flakes </center>\n"
   ]
  },
  {
   "cell_type": "code",
   "execution_count": 8,
   "metadata": {},
   "outputs": [
    {
     "name": "stdout",
     "output_type": "stream",
     "text": [
      "1\n"
     ]
    },
    {
     "data": {
      "text/plain": [
       "<matplotlib.legend.Legend at 0x116f04790>"
      ]
     },
     "execution_count": 8,
     "metadata": {},
     "output_type": "execute_result"
    },
    {
     "data": {
      "image/png": "[encoded data removed]",
      "text/plain": [
       "<Figure size 432x288 with 1 Axes>"
      ]
     },
     "metadata": {
      "needs_background": "light"
     },
     "output_type": "display_data"
    }
   ],
   "source": [
    "import matplotlib.pyplot as plt\n",
    "%matplotlib inline\n",
    "\n",
    "m = 10\n",
    "n = m\n",
    "snowflakes = [n]\n",
    "while n != 1:\n",
    "    n=n//2 if n%2 ==0 else n*3+1\n",
    "    snowflakes.append(n)\n",
    "print(1)\n",
    "\n",
    "plt.plot([x for x in range(len(snowflakes))], snowflakes, label=str(m))\n",
    "plt.title(\"Snowflakes Plot\")\n",
    "plt.ylabel(\"Heights\")\n",
    "plt.legend() "
   ]
  },
  {
   "cell_type": "markdown",
   "metadata": {},
   "source": [
    "### step 3: Next we add another loop that will run the conjecture check on a range of numbers:    \n",
    "\n",
    "__Sample run (limit = 10, m = 1):__\n",
    "\n",
    "`\n",
    "1\n",
    "2 1\n",
    "3 10 5 16 8 4 2 1\n",
    "4 2 1\n",
    "5 16 8 4 2 1\n",
    "6 3 10 5 16 8 4 2 1\n",
    "7 22 11 34 17 52 26 13 40 20 10 5 16 8 4 2 1\n",
    "8 4 2 1\n",
    "9 28 14 7 22 11 34 17 52 26 13 40 20 10 5 16 8 4 2 1\n",
    "10 5 16 8 4 2 1\n",
    "`"
   ]
  },
  {
   "cell_type": "code",
   "execution_count": 18,
   "metadata": {},
   "outputs": [
    {
     "name": "stdout",
     "output_type": "stream",
     "text": [
      "1 \n",
      "2 1 \n",
      "3 10 5 16 8 4 2 1 \n",
      "4 2 1 \n",
      "5 16 8 4 2 1 \n",
      "6 3 10 5 16 8 4 2 1 \n",
      "7 22 11 34 17 52 26 13 40 20 10 5 16 8 4 2 1 \n",
      "8 4 2 1 \n",
      "9 28 14 7 22 11 34 17 52 26 13 40 20 10 5 16 8 4 2 1 \n",
      "10 5 16 8 4 2 1 \n"
     ]
    }
   ],
   "source": [
    "limit = 10\n",
    "m = 1\n",
    "while m <= limit:\n",
    "    n = m\n",
    "    print(n,end = ' ')\n",
    "    while n != 1:\n",
    "        n=n//2 if n%2 ==0 else n*3+1\n",
    "        print(n,end =' ')\n",
    "    print('')\n",
    "    m = m + 1\n",
    "    "
   ]
  },
  {
   "cell_type": "markdown",
   "metadata": {},
   "source": [
    "### step 4:  find the hightest height in each snowflake  \n",
    "\n",
    "__Sample run (limit = 10, m = 1):__\n",
    "`\n",
    "1 highest = 1\n",
    "2 highest = 2\n",
    "3 highest = 16\n",
    "4 highest = 4\n",
    "5 highest = 16\n",
    "6 highest = 16\n",
    "7 highest = 52\n",
    "8 highest = 8\n",
    "9 highest = 52\n",
    "10 highest = 16\n",
    "`"
   ]
  },
  {
   "cell_type": "code",
   "execution_count": 16,
   "metadata": {},
   "outputs": [
    {
     "name": "stdout",
     "output_type": "stream",
     "text": [
      "1 highest = 1\n",
      "2 highest = 2\n",
      "3 highest = 16\n",
      "4 highest = 4\n",
      "5 highest = 16\n",
      "6 highest = 16\n",
      "7 highest = 52\n",
      "8 highest = 8\n",
      "9 highest = 52\n",
      "10 highest = 16\n"
     ]
    }
   ],
   "source": [
    "limit = 10\n",
    "m = 1\n",
    "while m <= limit:\n",
    "    n = m\n",
    "    high = n\n",
    "    while n != 1:\n",
    "        n=n//2 if n%2 ==0 else n*3+1\n",
    "        if n>high :\n",
    "            high = n\n",
    "    print(m, 'highest =', high)\n",
    "    m = m + 1"
   ]
  },
  {
   "cell_type": "markdown",
   "metadata": {},
   "source": [
    "# Challenge 1: \n",
    "\n",
    "- Find a natural number that generates the highest sequence (goes up the highest).\n",
    "\n",
    "- Find a natural number that generates the longest sequence (stay in the air longer)."
   ]
  },
  {
   "cell_type": "markdown",
   "metadata": {},
   "source": [
    "### Get the highest in the sequences\n",
    "Instead of printing the highests, make a list the highest in the sequences.\n",
    "\n",
    "    - find the highest and its index\n",
    "    - is it unique one? (count how many the highest)\n",
    "    \n",
    "#### Sample run:\n",
    "`\n",
    "1 highest = 1\n",
    "2 1 highest = 2\n",
    "3 10 5 16 8 4 2 1 highest = 16\n",
    "4 2 1 highest = 4\n",
    "5 16 8 4 2 1 highest = 16\n",
    "6 3 10 5 16 8 4 2 1 highest = 16\n",
    "7 22 11 34 17 52 26 13 40 20 10 5 16 8 4 2 1 highest = 52\n",
    "8 4 2 1 highest = 8\n",
    "9 28 14 7 22 11 34 17 52 26 13 40 20 10 5 16 8 4 2 1 highest = 52\n",
    "10 5 16 8 4 2 1 highest = 16\n",
    "[1, 2, 16, 4, 16, 16, 52, 8, 52, 16]\n",
    "highest = 52 at 7\n",
    "count =  2\n",
    "`"
   ]
  },
  {
   "cell_type": "code",
   "execution_count": 1,
   "metadata": {},
   "outputs": [
    {
     "name": "stdout",
     "output_type": "stream",
     "text": [
      "1 highest = 1\n",
      "2 1 highest = 2\n",
      "3 10 5 16 8 4 2 1 highest = 16\n",
      "4 2 1 highest = 4\n",
      "5 16 8 4 2 1 highest = 16\n",
      "6 3 10 5 16 8 4 2 1 highest = 16\n",
      "7 22 11 34 17 52 26 13 40 20 10 5 16 8 4 2 1 highest = 52\n",
      "8 4 2 1 highest = 8\n",
      "9 28 14 7 22 11 34 17 52 26 13 40 20 10 5 16 8 4 2 1 highest = 52\n",
      "10 5 16 8 4 2 1 highest = 16\n",
      "[1, 2, 16, 4, 16, 16, 52, 8, 52, 16]\n",
      "highest = 52 at 7\n",
      "count =  2\n"
     ]
    }
   ],
   "source": [
    "highests = []\n",
    "limit = 10\n",
    "m = 1\n",
    "while m <= limit:\n",
    "    n = m\n",
    "    high = n\n",
    "    print(n,end=' ')\n",
    "    while n != 1:\n",
    "        n=n//2 if n%2 ==0 else n*3+1\n",
    "        if n>high:\n",
    "            high=n\n",
    "        print(n,end=' ')\n",
    "    print('highest =', high)\n",
    "    m = m + 1\n",
    "    highests.append(high)\n",
    "    \n",
    "print(highests) \n",
    "high = max(highests)\n",
    "print('highest =', high, 'at', highests.index(high) + 1)\n",
    "print('count = ', highests.count(high))"
   ]
  },
  {
   "cell_type": "markdown",
   "metadata": {},
   "source": [
    "### Get the longest sequence\n",
    "\n",
    "__Sample run (limit = 20, m = 1):__\n",
    "\n",
    "`\n",
    "highest = 160 at 14\n",
    "count =  1\n",
    "longest = 21 at 17\n",
    "count =  2\n",
    "`\n",
    "<img src=\"https://github.com/idebtor/KMOOC-ML/blob/master/ipynb/images/snowflakes2.png?raw=true\" width=\"400\">\n",
    "<center>그림 2: 눈송이와 높이와 길이</center>"
   ]
  },
  {
   "cell_type": "code",
   "execution_count": 2,
   "metadata": {},
   "outputs": [
    {
     "name": "stdout",
     "output_type": "stream",
     "text": [
      "highest = 160 at 14\n",
      "count =  1\n",
      "longest = 21 at 17\n",
      "count =  2\n"
     ]
    },
    {
     "data": {
      "image/png": "[encoded data removed]",
      "text/plain": [
       "<Figure size 432x288 with 1 Axes>"
      ]
     },
     "metadata": {
      "needs_background": "light"
     },
     "output_type": "display_data"
    }
   ],
   "source": [
    "import matplotlib.pyplot as plt\n",
    "%matplotlib inline\n",
    "\n",
    "highests = []\n",
    "longests = []\n",
    "limit = 20\n",
    "m = 1\n",
    "while m <= limit:\n",
    "    n = m\n",
    "    high = m\n",
    "    long = 1\n",
    "    while n != 1:\n",
    "        n=n//2 if n%2 ==0 else n*3+1\n",
    "        long = long+1\n",
    "        if n>high:\n",
    "            high=n\n",
    "    highests.append(high)\n",
    "    longests.append(long)\n",
    "    m += 1\n",
    "\n",
    "assert limit == len(highests)\n",
    "high = max(highests)\n",
    "long = max(longests)\n",
    "print('highest =',  high, 'at', highests.index(high))\n",
    "print('count = ', highests.count(high))\n",
    "print('longest =',  long, 'at', longests.index(long))\n",
    "print('count = ', longests.count(long))\n",
    "\n",
    "plt.plot([x for x in range(len(longests))], longests, label = 'longests', marker=\"v\",ls='-')\n",
    "plt.plot([x for x in range(len(highests))], highests, label = 'highests', marker=\"o\",ls='--')\n",
    "plt.legend()\n",
    "plt.title(\"Snowflakes Plot\")\n",
    "plt.ylabel(\"Heights\")\n",
    "plt.show()"
   ]
  },
  {
   "cell_type": "markdown",
   "metadata": {},
   "source": [
    "When a loop goes over a simple range it is easier to use the range function with a for loop - and more robust against bugs:"
   ]
  },
  {
   "cell_type": "code",
   "execution_count": 3,
   "metadata": {},
   "outputs": [
    {
     "name": "stdout",
     "output_type": "stream",
     "text": [
      "10 is OK, highest = 16\n",
      "11 is OK, highest = 52\n",
      "12 is OK, highest = 16\n",
      "13 is OK, highest = 40\n",
      "14 is OK, highest = 52\n",
      "15 is OK, highest = 160\n",
      "16 is OK, highest = 16\n",
      "17 is OK, highest = 52\n",
      "18 is OK, highest = 52\n",
      "19 is OK, highest = 88\n",
      "20 is OK, highest = 20\n"
     ]
    }
   ],
   "source": [
    "start, stop = 10, 20\n",
    "for m in range(start, stop + 1):\n",
    "    n = m\n",
    "    h = m\n",
    "    while n != 1:\n",
    "        if n % 2 == 0:\n",
    "            n = n // 2\n",
    "        else:\n",
    "            n = 3 * n + 1\n",
    "        h = max(h, n)\n",
    "    print(m, \"is OK, highest =\", h)"
   ]
  },
  {
   "cell_type": "markdown",
   "metadata": {},
   "source": [
    "# Challenge 2: Snowflake heights Plot\n",
    "\n",
    "Plot the snowflake heights from 10 and 20. The x range is 0 through the length of snowflakes. The y axis is the snowflake heights. \n",
    "\n",
    "__Sample run (start, stop = 10, 20):__\n",
    "`\n",
    "[10, 5, 16, 8, 4, 2, 1]\n",
    "[11, 34, 17, 52, 26, 13, 40, 20, 10, 5, 16, 8, 4, 2, 1]\n",
    "[12, 6, 3, 10, 5, 16, 8, 4, 2, 1]\n",
    "[13, 40, 20, 10, 5, 16, 8, 4, 2, 1]\n",
    "[14, 7, 22, 11, 34, 17, 52, 26, 13, 40, 20, 10, 5, 16, 8, 4, 2, 1]\n",
    "[15, 46, 23, 70, 35, 106, 53, 160, 80, 40, 20, 10, 5, 16, 8, 4, 2, 1]\n",
    "[16, 8, 4, 2, 1]\n",
    "[17, 52, 26, 13, 40, 20, 10, 5, 16, 8, 4, 2, 1]\n",
    "[18, 9, 28, 14, 7, 22, 11, 34, 17, 52, 26, 13, 40, 20, 10, 5, 16, 8, 4, 2, 1]\n",
    "[19, 58, 29, 88, 44, 22, 11, 34, 17, 52, 26, 13, 40, 20, 10, 5, 16, 8, 4, 2, 1]\n",
    "[20, 10, 5, 16, 8, 4, 2, 1]\n",
    "`\n",
    "\n",
    "<img src=\"https://github.com/idebtor/KMOOC-ML/blob/master/ipynb/images/snowflakes3.png?raw=true\" width=\"400\">\n",
    "<center>그림 3: 눈송이 추적하기</center>"
   ]
  },
  {
   "cell_type": "code",
   "execution_count": 4,
   "metadata": {},
   "outputs": [
    {
     "name": "stdout",
     "output_type": "stream",
     "text": [
      "[10, 5, 16, 8, 4, 2, 1]\n",
      "[11, 34, 17, 52, 26, 13, 40, 20, 10, 5, 16, 8, 4, 2, 1]\n",
      "[12, 6, 3, 10, 5, 16, 8, 4, 2, 1]\n",
      "[13, 40, 20, 10, 5, 16, 8, 4, 2, 1]\n",
      "[14, 7, 22, 11, 34, 17, 52, 26, 13, 40, 20, 10, 5, 16, 8, 4, 2, 1]\n",
      "[15, 46, 23, 70, 35, 106, 53, 160, 80, 40, 20, 10, 5, 16, 8, 4, 2, 1]\n",
      "[16, 8, 4, 2, 1]\n",
      "[17, 52, 26, 13, 40, 20, 10, 5, 16, 8, 4, 2, 1]\n",
      "[18, 9, 28, 14, 7, 22, 11, 34, 17, 52, 26, 13, 40, 20, 10, 5, 16, 8, 4, 2, 1]\n",
      "[19, 58, 29, 88, 44, 22, 11, 34, 17, 52, 26, 13, 40, 20, 10, 5, 16, 8, 4, 2, 1]\n",
      "[20, 10, 5, 16, 8, 4, 2, 1]\n"
     ]
    },
    {
     "data": {
      "image/png": "[encoded data removed]",
      "text/plain": [
       "<Figure size 432x288 with 1 Axes>"
      ]
     },
     "metadata": {
      "needs_background": "light"
     },
     "output_type": "display_data"
    }
   ],
   "source": [
    "# The x range is 0 through the length of snowflakes. \n",
    "# The y axis is the snowflake heights.\n",
    "\n",
    "%matplotlib inline\n",
    "import matplotlib.pyplot as plt\n",
    "\n",
    "start, stop = 10, 20\n",
    "for m in range(start, stop + 1):\n",
    "    snowflakes = []\n",
    "    n = m\n",
    "    snowflakes.append(m)\n",
    "    while n != 1:\n",
    "        if n % 2 == 0:\n",
    "            n = n // 2\n",
    "        else:\n",
    "            n = 3 * n + 1\n",
    "        snowflakes.append(n)\n",
    "        \n",
    "    \n",
    "    print(snowflakes)\n",
    "    \n",
    "    plt.plot([x for x in range(len(snowflakes))], snowflakes, label=str(m))\n",
    "    \n",
    "plt.title(\"Snowflakes Plot\")\n",
    "plt.ylabel(\"Heights\")\n",
    "plt.legend() \n",
    "plt.show()"
   ]
  },
  {
   "cell_type": "markdown",
   "metadata": {},
   "source": [
    "----------\n",
    "__우리가 아직 죄인되었을 때에 그리스도께서 우리를 위하여 죽으심으로 하나님께서 우리에 대한 자기의 사랑을 확증하셨느니라__ 롬5:9"
   ]
  }
 ],
 "metadata": {
  "kernelspec": {
   "display_name": "Python 3",
   "language": "python",
   "name": "python3"
  },
  "language_info": {
   "codemirror_mode": {
    "name": "ipython",
    "version": 3
   },
   "file_extension": ".py",
   "mimetype": "text/x-python",
   "name": "python",
   "nbconvert_exporter": "python",
   "pygments_lexer": "ipython3",
   "version": "3.7.4"
  }
 },
 "nbformat": 4,
 "nbformat_minor": 1
}
